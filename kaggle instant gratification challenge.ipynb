{
 "cells": [
  {
   "cell_type": "code",
   "execution_count": 1,
   "metadata": {
    "_cell_guid": "b1076dfc-b9ad-4769-8c92-a6c4dae69d19",
    "_uuid": "8f2839f25d086af736a60e9eeb907d3b93b6e0e5"
   },
   "outputs": [
    {
     "name": "stdout",
     "output_type": "stream",
     "text": [
      "['train.csv', 'sample_submission.csv', 'test.csv']\n"
     ]
    }
   ],
   "source": [
    "# This Python 3 environment comes with many helpful analytics libraries installed\n",
    "# It is defined by the kaggle/python docker image: https://github.com/kaggle/docker-python\n",
    "# For example, here's several helpful packages to load in \n",
    "\n",
    "import numpy as np # linear algebra\n",
    "import pandas as pd # data processing, CSV file I/O (e.g. pd.read_csv)\n",
    "\n",
    "# Input data files are available in the \"../input/\" directory.\n",
    "# For example, running this (by clicking run or pressing Shift+Enter) will list the files in the input directory\n",
    "\n",
    "import os\n",
    "print(os.listdir(\"../input\"))\n",
    "\n",
    "# Any results you write to the current directory are saved as output."
   ]
  },
  {
   "cell_type": "code",
   "execution_count": 2,
   "metadata": {
    "_cell_guid": "79c7e3d0-c299-4dcb-8224-4455121ee9b0",
    "_uuid": "d629ff2d2480ee46fbb7e2d37f6b5fab8052498a",
    "collapsed": true
   },
   "outputs": [
    {
     "name": "stdout",
     "output_type": "stream",
     "text": [
      "['train.csv', 'sample_submission.csv', 'test.csv']\n"
     ]
    }
   ],
   "source": [
    "# This Python 3 environment comes with many helpful analytics libraries installed\n",
    "# It is defined by the kaggle/python docker image: https://github.com/kaggle/docker-python\n",
    "# For example, here's several helpful packages to load in \n",
    "\n",
    "import numpy as np # linear algebra\n",
    "import pandas as pd # data processing, CSV file I/O (e.g. pd.read_csv)\n",
    "\n",
    "# Input data files are available in the \"../input/\" directory.\n",
    "# For example, running this (by clicking run or pressing Shift+Enter) will list the files in the input directory\n",
    "\n",
    "import os\n",
    "print(os.listdir(\"../input\"))\n",
    "\n",
    "# Any results you write to the current directory are saved as output."
   ]
  },
  {
   "cell_type": "code",
   "execution_count": 3,
   "metadata": {},
   "outputs": [],
   "source": [
    "import numpy as np\n",
    "import pandas as pd\n",
    "from sklearn.model_selection import StratifiedKFold\n",
    "from sklearn.metrics import roc_auc_score\n",
    "from sklearn.preprocessing import StandardScaler\n",
    "from sklearn.feature_selection import VarianceThreshold\n",
    "from sklearn.discriminant_analysis import QuadraticDiscriminantAnalysis, LinearDiscriminantAnalysis\n",
    "from sklearn.pipeline import Pipeline\n",
    "from sklearn.model_selection import GridSearchCV, train_test_split\n",
    "from tqdm import tqdm_notebook\n",
    "import warnings\n",
    "import multiprocessing\n",
    "from scipy.optimize import minimize  \n",
    "warnings.filterwarnings('ignore')"
   ]
  },
  {
   "cell_type": "code",
   "execution_count": 4,
   "metadata": {},
   "outputs": [
    {
     "name": "stdout",
     "output_type": "stream",
     "text": [
      "(262144, 258) (131073, 257)\n",
      "CPU times: user 22.8 s, sys: 1.75 s, total: 24.6 s\n",
      "Wall time: 24.6 s\n"
     ]
    }
   ],
   "source": [
    "%%time\n",
    "train = pd.read_csv('../input/train.csv')\n",
    "test = pd.read_csv('../input/test.csv')\n",
    "cols = [c for c in train.columns if c not in ['id', 'target', 'wheezy-copper-turtle-magic']]\n",
    "print(train.shape, test.shape)"
   ]
  },
  {
   "cell_type": "code",
   "execution_count": 5,
   "metadata": {},
   "outputs": [],
   "source": [
    "reg_params = [0.01,0.23,0.01,0.08,0.27,0.03,0.16,0.33,0.28,0.02,0.01,0.07,0.01,0.31\n",
    ",0.28,0.26,0.02,0.1,0.11,0.17,0.42,0.34,0.11,0.22,0.61,0.12,0.14,0.19\n",
    ",0.02,0.01,0.02,0.06,0.36,0.09,0.11,0.01,0.03,0.11,0.01,0.11,0.23,0.02\n",
    ",0.17,0.14,0.12,0.06,0.08,0.01,0.26,0.01,0.02,0.04,0.33,0.03,0.07,0.16\n",
    ",0.01,0.02,0.28,0.17,0.04,0.19,0.05,0.11,0.03,0.22,0.17,0.16,0.06,0.14\n",
    ",0.01,0.07,0.05,0.06,0.2,0.05,0.02,0.09,0.05,0.01,0.08,0.1,0.01,0.22\n",
    ",0.19,0.13,0.02,0.03,0.12,0.07,0.15,0.09,0.02,0.16,0.01,0.39,0.12,0.14\n",
    ",0.09,0.41,0.32,0.13,0.15,0.01,0.41,0.12,0.01,0.13,0.17,0.03,0.08,0.12\n",
    ",0.21,0.01,0.16,0.28,0.01,0.02,0.11,0.21,0.27,0.03,0.17,0.05,0.02,0.4\n",
    ",0.28,0.01,0.03,0.28,0.02,0.12,0.17,0.1,0.01,0.1,0.01,0.24,0.11,0.18\n",
    ",0.17,0.08,0.1,0.04,0.13,0.04,0.12,0.25,0.13,0.19,0.05,0.03,0.1,0.01\n",
    ",0.05,0.01,0.01,0.01,0.18,0.24,0.13,0.01,0.15,0.01,0.09,0.04,0.06,0.01\n",
    ",0.06,0.11,0.21,0.08,0.21,0.04,0.04,0.04,0.2,0.01,0.19,0.14,0.11,0.03\n",
    ",0.23,0.01,0.04,0.13,0.46,0.04,0.07,0.08,0.07,0.01,0.11,0.2,0.07,0.23\n",
    ",0.2,0.14,0.07,0.06,0.16,0.02,0.33,0.13,0.11,0.06,0.22,0.22,0.19,0.03\n",
    ",0.1,0.37,0.22,0.01,0.01,0.22,0.07,0.01,0.23,0.35,0.03,0.29,0.01,0.04\n",
    ",0.01,0.04,0.07,0.23,0.2,0.09,0.01,0.23,0.3,0.06,0.09,0.04,0.46,0.25\n",
    ",0.14,0.01,0.04,0.03,0.01,0.04,0.11,0.08,0.01,0.09,0.05,0.1,0.05,0.28\n",
    ",0.02,0.08,0.01,0.06,0.38,0.04,0.01,0.15,0.21,0.01,0.01,0.45,0.18,0.27\n",
    ",0.24,0.01,0.04,0.14,0.13,0.18,0.22,0.32,0.13,0.07,0.26,0.17,0.12,0.14\n",
    ",0.09,0.13,0.08,0.09,0.07,0.01,0.02,0.04,0.01,0.07,0.32,0.01,0.36,0.09\n",
    ",0.11,0.06,0.46,0.11,0.16,0.21,0.01,0.1,0.01,0.1,0.23,0.05,0.33,0.01\n",
    ",0.24,0.04,0.01,0.04,0.1,0.01,0.36,0.44,0.03,0.08,0.21,0.01,0.18,0.01\n",
    ",0.17,0.19,0.03,0.01,0.18,0.15,0.48,0.06,0.17,0.18,0.37,0.01,0.31,0.01\n",
    ",0.16,0.18,0.11,0.08,0.08,0.07,0.28,0.02,0.09,0.08,0.01,0.09,0.01,0.07\n",
    ",0.01,0.24,0.09,0.02,0.37,0.16,0.04,0.14,0.22,0.06,0.29,0.16,0.06,0.06\n",
    ",0.04,0.05,0.25,0.07,0.01,0.01,0.21,0.02,0.04,0.3,0.39,0.02,0.23,0.22\n",
    ",0.05,0.01,0.06,0.05,0.02,0.01,0.02,0.12,0.11,0.05,0.01,0.2,0.01,0.08\n",
    ",0.08,0.04,0.33,0.06,0.16,0.35,0.18,0.13,0.01,0.01,0.12,0.18,0.01,0.01\n",
    ",0.17,0.08,0.48,0.18,0.01,0.02,0.35,0.15,0.34,0.01,0.14,0.01,0.32,0.34\n",
    ",0.15,0.1,0.18,0.18,0.11,0.24,0.01,0.13,0.03,0.36,0.01,0.08,0.01,0.13\n",
    ",0.07,0.08,0.24,0.01,0.05,0.05,0.1,0.07,0.21,0.01,0.08,0.11,0.09,0.04\n",
    ",0.01,0.11,0.02,0.09,0.16,0.51,0.17,0.09,0.03,0.12,0.06,0.18,0.01,0.01\n",
    ",0.02,0.02,0.01,0.27,0.28,0.09,0.02,0.13,0.03,0.16,0.15,0.04,0.17,0.19\n",
    ",0.26,0.01,0.04,0.1,0.04,0.01,0.07,0.05,0.02,0.59,0.01,0.2,0.12,0.1\n",
    ",0.07,0.18,0.08,0.01,0.34,0.15,0.28,0.12,0.05,0.01,0.11,0.08,0.12,0.04\n",
    ",0.05,0.33,0.01,0.01,0.09,0.07,0.19,0.09]"
   ]
  },
  {
   "cell_type": "code",
   "execution_count": 6,
   "metadata": {},
   "outputs": [
    {
     "data": {
      "application/vnd.jupyter.widget-view+json": {
       "model_id": "f1ea5165c7054d10acefebe422255371",
       "version_major": 2,
       "version_minor": 0
      },
      "text/plain": [
       "HBox(children=(IntProgress(value=0, max=512), HTML(value='')))"
      ]
     },
     "metadata": {},
     "output_type": "display_data"
    },
    {
     "name": "stdout",
     "output_type": "stream",
     "text": [
      "\n",
      "AUC: 0.96585\n"
     ]
    }
   ],
   "source": [
    "oof = np.zeros(len(train))\n",
    "preds = np.zeros(len(test))\n",
    "#reg_params = np.zeros(512)\n",
    "for i in tqdm_notebook(range(512)):\n",
    "\n",
    "    train2 = train[train['wheezy-copper-turtle-magic']==i]\n",
    "    test2 = test[test['wheezy-copper-turtle-magic']==i]\n",
    "    idx1 = train2.index; idx2 = test2.index\n",
    "    train2.reset_index(drop=True,inplace=True)\n",
    "\n",
    "    data = pd.concat([pd.DataFrame(train2[cols]), pd.DataFrame(test2[cols])])\n",
    "    pipe = Pipeline([('vt', VarianceThreshold(threshold=1.5)), ('scaler', StandardScaler())])\n",
    "    data2 = pipe.fit_transform(data[cols])\n",
    "    train3 = data2[:train2.shape[0]]; test3 = data2[train2.shape[0]:]\n",
    "\n",
    "    skf = StratifiedKFold(n_splits=30, random_state=42)\n",
    "    for train_index, test_index in skf.split(train2, train2['target']):\n",
    "\n",
    "        clf = QuadraticDiscriminantAnalysis(reg_params[i])\n",
    "#         qda = QuadraticDiscriminantAnalysis()\n",
    "#         clf = GridSearchCV(qda, params, cv=4)\n",
    "        clf.fit(train3[train_index,:],train2.loc[train_index]['target'])\n",
    "#         reg_params[i] = clf.best_params_['reg_param']\n",
    "        oof[idx1[test_index]] = clf.predict_proba(train3[test_index,:])[:,1]\n",
    "        preds[idx2] += clf.predict_proba(test3)[:,1] / skf.n_splits\n",
    "\n",
    "auc = roc_auc_score(train['target'], oof)\n",
    "print(f'AUC: {auc:.5}')\n",
    "# print('best_params:', reg_params)"
   ]
  },
  {
   "cell_type": "code",
   "execution_count": 7,
   "metadata": {},
   "outputs": [
    {
     "name": "stdout",
     "output_type": "stream",
     "text": [
      "116667\n"
     ]
    },
    {
     "data": {
      "application/vnd.jupyter.widget-view+json": {
       "model_id": "1cac43e5f6ae4597b5c0e5fc168ac5d8",
       "version_major": 2,
       "version_minor": 0
      },
      "text/plain": [
       "HBox(children=(IntProgress(value=0, max=512), HTML(value='')))"
      ]
     },
     "metadata": {},
     "output_type": "display_data"
    },
    {
     "name": "stdout",
     "output_type": "stream",
     "text": [
      "\n",
      "AUC: 0.97193\n",
      "122129\n"
     ]
    },
    {
     "data": {
      "application/vnd.jupyter.widget-view+json": {
       "model_id": "c1360fdf89f54207a608cfa4478b22bf",
       "version_major": 2,
       "version_minor": 0
      },
      "text/plain": [
       "HBox(children=(IntProgress(value=0, max=512), HTML(value='')))"
      ]
     },
     "metadata": {},
     "output_type": "display_data"
    },
    {
     "name": "stdout",
     "output_type": "stream",
     "text": [
      "\n",
      "AUC: 0.97123\n",
      "122520\n"
     ]
    },
    {
     "data": {
      "application/vnd.jupyter.widget-view+json": {
       "model_id": "fed4c2b57e09445396e7a841f86c8d06",
       "version_major": 2,
       "version_minor": 0
      },
      "text/plain": [
       "HBox(children=(IntProgress(value=0, max=512), HTML(value='')))"
      ]
     },
     "metadata": {},
     "output_type": "display_data"
    },
    {
     "name": "stdout",
     "output_type": "stream",
     "text": [
      "\n",
      "AUC: 0.97117\n",
      "122570\n"
     ]
    },
    {
     "data": {
      "application/vnd.jupyter.widget-view+json": {
       "model_id": "b0f6c5e33c7b4ddb88f1fd6531d3ffd0",
       "version_major": 2,
       "version_minor": 0
      },
      "text/plain": [
       "HBox(children=(IntProgress(value=0, max=512), HTML(value='')))"
      ]
     },
     "metadata": {},
     "output_type": "display_data"
    },
    {
     "name": "stdout",
     "output_type": "stream",
     "text": [
      "\n",
      "AUC: 0.97116\n",
      "122580\n"
     ]
    },
    {
     "data": {
      "application/vnd.jupyter.widget-view+json": {
       "model_id": "fce95bdeb39c41869899fcc50a444e7b",
       "version_major": 2,
       "version_minor": 0
      },
      "text/plain": [
       "HBox(children=(IntProgress(value=0, max=512), HTML(value='')))"
      ]
     },
     "metadata": {},
     "output_type": "display_data"
    },
    {
     "name": "stdout",
     "output_type": "stream",
     "text": [
      "\n",
      "AUC: 0.97116\n"
     ]
    }
   ],
   "source": [
    "for i in range(5):\n",
    "    test['target'] = preds\n",
    "    test.loc[test['target'] > 0.94, 'target'] = 1\n",
    "    test.loc[test['target'] < 0.06, 'target'] = 0\n",
    "    usefull_test = test[(test['target'] == 1) | (test['target'] == 0)]\n",
    "    new_train = pd.concat([train, usefull_test]).reset_index(drop=True)\n",
    "    print(usefull_test.shape[0])\n",
    "    new_train.loc[oof > 0.98, 'target'] = 1\n",
    "    new_train.loc[oof < 0.02, 'target'] = 0\n",
    "    oof2 = np.zeros(len(train))\n",
    "    preds = np.zeros(len(test))\n",
    "    for i in tqdm_notebook(range(512)):\n",
    "        train2 = new_train[new_train['wheezy-copper-turtle-magic']==i]\n",
    "        test2 = test[test['wheezy-copper-turtle-magic']==i]\n",
    "        idx1 = train[train['wheezy-copper-turtle-magic']==i].index\n",
    "        idx2 = test2.index\n",
    "        train2.reset_index(drop=True,inplace=True)\n",
    "\n",
    "        data = pd.concat([pd.DataFrame(train2[cols]), pd.DataFrame(test2[cols])])\n",
    "        pipe = Pipeline([('vt', VarianceThreshold(threshold=1.5)), ('scaler', StandardScaler())])\n",
    "        data2 = pipe.fit_transform(data[cols])\n",
    "        train3 = data2[:train2.shape[0]]\n",
    "        test3 = data2[train2.shape[0]:]\n",
    "        skf = StratifiedKFold(n_splits=30, random_state=42)\n",
    "        for train_index, test_index in skf.split(train2, train2['target']):\n",
    "            oof_test_index = [t for t in test_index if t < len(idx1)]\n",
    "            clf = QuadraticDiscriminantAnalysis(reg_params[i])\n",
    "            clf.fit(train3[train_index,:],train2.loc[train_index]['target'])\n",
    "            if len(oof_test_index) > 0:\n",
    "                oof2[idx1[oof_test_index]] = clf.predict_proba(train3[oof_test_index,:])[:,1]\n",
    "            preds[idx2] += clf.predict_proba(test3)[:,1] / skf.n_splits\n",
    "    auc = roc_auc_score(train['target'], oof2)\n",
    "    print(f'AUC: {auc:.5}')"
   ]
  },
  {
   "cell_type": "code",
   "execution_count": 8,
   "metadata": {},
   "outputs": [],
   "source": [
    "subtc = pd.read_csv('../input/sample_submission.csv')\n",
    "subtc['target'] = preds\n",
    "#sub.to_csv('submission.csv',index=False)"
   ]
  },
  {
   "cell_type": "code",
   "execution_count": 9,
   "metadata": {},
   "outputs": [],
   "source": []
  },
  {
   "cell_type": "code",
   "execution_count": 9,
   "metadata": {},
   "outputs": [
    {
     "name": "stdout",
     "output_type": "stream",
     "text": [
      "(262144, 258) (131073, 257)\n"
     ]
    },
    {
     "data": {
      "application/vnd.jupyter.widget-view+json": {
       "model_id": "658adb1aff4b48e68f66c6faf5805300",
       "version_major": 2,
       "version_minor": 0
      },
      "text/plain": [
       "HBox(children=(IntProgress(value=0, max=512), HTML(value='')))"
      ]
     },
     "metadata": {},
     "output_type": "display_data"
    },
    {
     "name": "stdout",
     "output_type": "stream",
     "text": [
      "\n",
      "AUC: 0.9649\n",
      "112714 Test Records added for iteration :  0\n"
     ]
    },
    {
     "data": {
      "application/vnd.jupyter.widget-view+json": {
       "model_id": "5667900c2caa4fd19068b10547fab040",
       "version_major": 2,
       "version_minor": 0
      },
      "text/plain": [
       "HBox(children=(IntProgress(value=0, max=512), HTML(value='')))"
      ]
     },
     "metadata": {},
     "output_type": "display_data"
    },
    {
     "name": "stdout",
     "output_type": "stream",
     "text": [
      "\n",
      "AUC: 0.97154\n",
      "119378 Test Records added for iteration :  1\n"
     ]
    },
    {
     "data": {
      "application/vnd.jupyter.widget-view+json": {
       "model_id": "1e26c292b7464ac2ab7e128700ec84b2",
       "version_major": 2,
       "version_minor": 0
      },
      "text/plain": [
       "HBox(children=(IntProgress(value=0, max=512), HTML(value='')))"
      ]
     },
     "metadata": {},
     "output_type": "display_data"
    },
    {
     "name": "stdout",
     "output_type": "stream",
     "text": [
      "\n",
      "AUC: 0.97074\n",
      "119788 Test Records added for iteration :  2\n"
     ]
    },
    {
     "data": {
      "application/vnd.jupyter.widget-view+json": {
       "model_id": "0f0ebf29bfcf4940ad221e1965e6afd6",
       "version_major": 2,
       "version_minor": 0
      },
      "text/plain": [
       "HBox(children=(IntProgress(value=0, max=512), HTML(value='')))"
      ]
     },
     "metadata": {},
     "output_type": "display_data"
    },
    {
     "name": "stdout",
     "output_type": "stream",
     "text": [
      "\n",
      "AUC: 0.97068\n",
      "119865 Test Records added for iteration :  3\n"
     ]
    },
    {
     "data": {
      "application/vnd.jupyter.widget-view+json": {
       "model_id": "438559047891483d9ff7f292793c1b7a",
       "version_major": 2,
       "version_minor": 0
      },
      "text/plain": [
       "HBox(children=(IntProgress(value=0, max=512), HTML(value='')))"
      ]
     },
     "metadata": {},
     "output_type": "display_data"
    },
    {
     "name": "stdout",
     "output_type": "stream",
     "text": [
      "\n",
      "AUC: 0.97068\n"
     ]
    }
   ],
   "source": [
    "import numpy as np\n",
    "import pandas as pd\n",
    "from sklearn.model_selection import StratifiedKFold\n",
    "from sklearn.metrics import roc_auc_score\n",
    "from sklearn.preprocessing import StandardScaler\n",
    "from sklearn.feature_selection import VarianceThreshold\n",
    "from sklearn.discriminant_analysis import QuadraticDiscriminantAnalysis, LinearDiscriminantAnalysis\n",
    "from sklearn.pipeline import Pipeline\n",
    "from tqdm import tqdm_notebook\n",
    "import warnings\n",
    "import multiprocessing\n",
    "from scipy.optimize import minimize  \n",
    "import time\n",
    "warnings.filterwarnings('ignore')\n",
    "# STEP 2\n",
    "train = pd.read_csv('../input/train.csv')\n",
    "test = pd.read_csv('../input/test.csv')\n",
    "cols = [c for c in train.columns if c not in ['id', 'target', 'wheezy-copper-turtle-magic']]\n",
    "print(train.shape, test.shape)\n",
    "# STEP 3\n",
    "oof = np.zeros(len(train))\n",
    "preds = np.zeros(len(test))\n",
    "\n",
    "for i in tqdm_notebook(range(512)):\n",
    "\n",
    "    train2 = train[train['wheezy-copper-turtle-magic']==i]\n",
    "    test2 = test[test['wheezy-copper-turtle-magic']==i]\n",
    "    idx1 = train2.index; idx2 = test2.index\n",
    "    train2.reset_index(drop=True,inplace=True)\n",
    "\n",
    "    data = pd.concat([pd.DataFrame(train2[cols]), pd.DataFrame(test2[cols])])\n",
    "    pipe = Pipeline([('vt', VarianceThreshold(threshold=2)), ('scaler', StandardScaler())])\n",
    "    data2 = pipe.fit_transform(data[cols])\n",
    "    train3 = data2[:train2.shape[0]]; test3 = data2[train2.shape[0]:]\n",
    "\n",
    "    skf = StratifiedKFold(n_splits=11, random_state=42)\n",
    "    for train_index, test_index in skf.split(train2, train2['target']):\n",
    "\n",
    "        clf = QuadraticDiscriminantAnalysis(0.5)\n",
    "        clf.fit(train3[train_index,:],train2.loc[train_index]['target'])\n",
    "        oof[idx1[test_index]] = clf.predict_proba(train3[test_index,:])[:,1]\n",
    "        preds[idx2] += clf.predict_proba(test3)[:,1] / skf.n_splits\n",
    "\n",
    "auc = roc_auc_score(train['target'], oof)\n",
    "print(f'AUC: {auc:.5}')\n",
    "\n",
    "# STEP 4\n",
    "for itr in range(4):\n",
    "    test['target'] = preds\n",
    "    test.loc[test['target'] > 0.955, 'target'] = 1 # initial 94\n",
    "    test.loc[test['target'] < 0.045, 'target'] = 0 # initial 06\n",
    "    usefull_test = test[(test['target'] == 1) | (test['target'] == 0)]\n",
    "    new_train = pd.concat([train, usefull_test]).reset_index(drop=True)\n",
    "    print(usefull_test.shape[0], \"Test Records added for iteration : \", itr)\n",
    "    new_train.loc[oof > 0.995, 'target'] = 1 # initial 98\n",
    "    new_train.loc[oof < 0.005, 'target'] = 0 # initial 02\n",
    "    oof2 = np.zeros(len(train))\n",
    "    preds = np.zeros(len(test))\n",
    "    for i in tqdm_notebook(range(512)):\n",
    "\n",
    "        train2 = new_train[new_train['wheezy-copper-turtle-magic']==i]\n",
    "        test2 = test[test['wheezy-copper-turtle-magic']==i]\n",
    "        idx1 = train[train['wheezy-copper-turtle-magic']==i].index\n",
    "        idx2 = test2.index\n",
    "        train2.reset_index(drop=True,inplace=True)\n",
    "\n",
    "        data = pd.concat([pd.DataFrame(train2[cols]), pd.DataFrame(test2[cols])])\n",
    "        pipe = Pipeline([('vt', VarianceThreshold(threshold=2)), ('scaler', StandardScaler())])\n",
    "        data2 = pipe.fit_transform(data[cols])\n",
    "        train3 = data2[:train2.shape[0]]\n",
    "        test3 = data2[train2.shape[0]:]\n",
    "\n",
    "        skf = StratifiedKFold(n_splits=11, random_state=time.time)\n",
    "        for train_index, test_index in skf.split(train2, train2['target']):\n",
    "            oof_test_index = [t for t in test_index if t < len(idx1)]\n",
    "            \n",
    "            clf = QuadraticDiscriminantAnalysis(0.5)\n",
    "            clf.fit(train3[train_index,:],train2.loc[train_index]['target'])\n",
    "            if len(oof_test_index) > 0:\n",
    "                oof2[idx1[oof_test_index]] = clf.predict_proba(train3[oof_test_index,:])[:,1]\n",
    "            preds[idx2] += clf.predict_proba(test3)[:,1] / skf.n_splits\n",
    "    auc = roc_auc_score(train['target'], oof2)\n",
    "    print(f'AUC: {auc:.5}')\n",
    "    \n",
    "# STEP 5\n",
    "sub1 = pd.read_csv('../input/sample_submission.csv')\n",
    "sub1['target'] = preds\n",
    "# sub.to_csv('submission.csv',index=False)"
   ]
  },
  {
   "cell_type": "code",
   "execution_count": 10,
   "metadata": {},
   "outputs": [
    {
     "name": "stdout",
     "output_type": "stream",
     "text": [
      "(262144, 258) (131073, 257)\n"
     ]
    },
    {
     "data": {
      "application/vnd.jupyter.widget-view+json": {
       "model_id": "d8088aa9e1c54a76a5aef8a74702bcdb",
       "version_major": 2,
       "version_minor": 0
      },
      "text/plain": [
       "HBox(children=(IntProgress(value=0, max=512), HTML(value='')))"
      ]
     },
     "metadata": {},
     "output_type": "display_data"
    },
    {
     "name": "stdout",
     "output_type": "stream",
     "text": [
      "\n",
      "AUC: 0.9649\n",
      "114545 Test Records added for iteration :  0\n"
     ]
    },
    {
     "data": {
      "application/vnd.jupyter.widget-view+json": {
       "model_id": "082e3b88a2374659857a1fbde7bc4b2b",
       "version_major": 2,
       "version_minor": 0
      },
      "text/plain": [
       "HBox(children=(IntProgress(value=0, max=512), HTML(value='')))"
      ]
     },
     "metadata": {},
     "output_type": "display_data"
    },
    {
     "name": "stdout",
     "output_type": "stream",
     "text": [
      "\n",
      "AUC: 0.97178\n",
      "120834 Test Records added for iteration :  1\n"
     ]
    },
    {
     "data": {
      "application/vnd.jupyter.widget-view+json": {
       "model_id": "329c3e04f4f24017adbce97e6e0b479b",
       "version_major": 2,
       "version_minor": 0
      },
      "text/plain": [
       "HBox(children=(IntProgress(value=0, max=512), HTML(value='')))"
      ]
     },
     "metadata": {},
     "output_type": "display_data"
    },
    {
     "name": "stdout",
     "output_type": "stream",
     "text": [
      "\n",
      "AUC: 0.97094\n",
      "121313 Test Records added for iteration :  2\n"
     ]
    },
    {
     "data": {
      "application/vnd.jupyter.widget-view+json": {
       "model_id": "2b61f645b3f1462089c11cf774da1f60",
       "version_major": 2,
       "version_minor": 0
      },
      "text/plain": [
       "HBox(children=(IntProgress(value=0, max=512), HTML(value='')))"
      ]
     },
     "metadata": {},
     "output_type": "display_data"
    },
    {
     "name": "stdout",
     "output_type": "stream",
     "text": [
      "\n",
      "AUC: 0.97087\n",
      "121394 Test Records added for iteration :  3\n"
     ]
    },
    {
     "data": {
      "application/vnd.jupyter.widget-view+json": {
       "model_id": "2cba225ed71f4a459a653126c45899ce",
       "version_major": 2,
       "version_minor": 0
      },
      "text/plain": [
       "HBox(children=(IntProgress(value=0, max=512), HTML(value='')))"
      ]
     },
     "metadata": {},
     "output_type": "display_data"
    },
    {
     "name": "stdout",
     "output_type": "stream",
     "text": [
      "\n",
      "AUC: 0.97086\n"
     ]
    }
   ],
   "source": [
    "import numpy as np\n",
    "import pandas as pd\n",
    "from sklearn.model_selection import StratifiedKFold\n",
    "from sklearn.metrics import roc_auc_score\n",
    "from sklearn.preprocessing import StandardScaler\n",
    "from sklearn.feature_selection import VarianceThreshold\n",
    "from sklearn.discriminant_analysis import QuadraticDiscriminantAnalysis, LinearDiscriminantAnalysis\n",
    "from sklearn.pipeline import Pipeline\n",
    "from tqdm import tqdm_notebook\n",
    "import warnings\n",
    "import multiprocessing\n",
    "from scipy.optimize import minimize  \n",
    "warnings.filterwarnings('ignore')\n",
    "\n",
    "train = pd.read_csv('../input/train.csv')\n",
    "test = pd.read_csv('../input/test.csv')\n",
    "cols = [c for c in train.columns if c not in ['id', 'target', 'wheezy-copper-turtle-magic']]\n",
    "print(train.shape, test.shape)\n",
    "\n",
    "\n",
    "oof = np.zeros(len(train))\n",
    "preds = np.zeros(len(test))\n",
    "\n",
    "for i in tqdm_notebook(range(512)):\n",
    "\n",
    "    train2 = train[train['wheezy-copper-turtle-magic']==i]\n",
    "    test2 = test[test['wheezy-copper-turtle-magic']==i]\n",
    "    idx1 = train2.index; idx2 = test2.index\n",
    "    train2.reset_index(drop=True,inplace=True)\n",
    "\n",
    "    data = pd.concat([pd.DataFrame(train2[cols]), pd.DataFrame(test2[cols])])\n",
    "    pipe = Pipeline([('vt', VarianceThreshold(threshold=2)), ('scaler', StandardScaler())])\n",
    "    data2 = pipe.fit_transform(data[cols])\n",
    "    train3 = data2[:train2.shape[0]]; test3 = data2[train2.shape[0]:]\n",
    "\n",
    "    skf = StratifiedKFold(n_splits=11, random_state=42)\n",
    "    for train_index, test_index in skf.split(train2, train2['target']):\n",
    "\n",
    "        clf = QuadraticDiscriminantAnalysis(0.5)\n",
    "        clf.fit(train3[train_index,:],train2.loc[train_index]['target'])\n",
    "        oof[idx1[test_index]] = clf.predict_proba(train3[test_index,:])[:,1]\n",
    "        preds[idx2] += clf.predict_proba(test3)[:,1] / skf.n_splits\n",
    "\n",
    "auc = roc_auc_score(train['target'], oof)\n",
    "print(f'AUC: {auc:.5}')\n",
    "\n",
    "for itr in range(4):\n",
    "    test['target'] = preds\n",
    "    test.loc[test['target'] > 0.94, 'target'] = 1\n",
    "    test.loc[test['target'] < 0.06, 'target'] = 0\n",
    "    usefull_test = test[(test['target'] == 1) | (test['target'] == 0)]\n",
    "    new_train = pd.concat([train, usefull_test]).reset_index(drop=True)\n",
    "    print(usefull_test.shape[0], \"Test Records added for iteration : \", itr)\n",
    "    new_train.loc[oof > 0.98, 'target'] = 1\n",
    "    new_train.loc[oof < 0.02, 'target'] = 0\n",
    "    oof2 = np.zeros(len(train))\n",
    "    preds = np.zeros(len(test))\n",
    "    for i in tqdm_notebook(range(512)):\n",
    "\n",
    "        train2 = new_train[new_train['wheezy-copper-turtle-magic']==i]\n",
    "        test2 = test[test['wheezy-copper-turtle-magic']==i]\n",
    "        idx1 = train[train['wheezy-copper-turtle-magic']==i].index\n",
    "        idx2 = test2.index\n",
    "        train2.reset_index(drop=True,inplace=True)\n",
    "\n",
    "        data = pd.concat([pd.DataFrame(train2[cols]), pd.DataFrame(test2[cols])])\n",
    "        pipe = Pipeline([('vt', VarianceThreshold(threshold=2)), ('scaler', StandardScaler())])\n",
    "        data2 = pipe.fit_transform(data[cols])\n",
    "        train3 = data2[:train2.shape[0]]\n",
    "        test3 = data2[train2.shape[0]:]\n",
    "\n",
    "        skf = StratifiedKFold(n_splits=11, random_state=42)\n",
    "        for train_index, test_index in skf.split(train2, train2['target']):\n",
    "            oof_test_index = [t for t in test_index if t < len(idx1)]\n",
    "            \n",
    "            clf = QuadraticDiscriminantAnalysis(0.5)\n",
    "            clf.fit(train3[train_index,:],train2.loc[train_index]['target'])\n",
    "            if len(oof_test_index) > 0:\n",
    "                oof2[idx1[oof_test_index]] = clf.predict_proba(train3[oof_test_index,:])[:,1]\n",
    "            preds[idx2] += clf.predict_proba(test3)[:,1] / skf.n_splits\n",
    "    auc = roc_auc_score(train['target'], oof2)\n",
    "    print(f'AUC: {auc:.5}')\n",
    "\n",
    "sub2 = pd.read_csv('../input/sample_submission.csv')\n",
    "sub2['target'] = preds\n",
    "# sub.to_csv('submission.csv',index=False)"
   ]
  },
  {
   "cell_type": "code",
   "execution_count": 11,
   "metadata": {},
   "outputs": [
    {
     "name": "stdout",
     "output_type": "stream",
     "text": [
      "(262144, 258) (131073, 257)\n"
     ]
    },
    {
     "data": {
      "application/vnd.jupyter.widget-view+json": {
       "model_id": "cd79202b185941678c476bf5431de92d",
       "version_major": 2,
       "version_minor": 0
      },
      "text/plain": [
       "HBox(children=(IntProgress(value=0, max=512), HTML(value='')))"
      ]
     },
     "metadata": {},
     "output_type": "display_data"
    },
    {
     "name": "stdout",
     "output_type": "stream",
     "text": [
      "\n",
      "AUC: 0.96462\n",
      "102002 Test Records added for iteration :  0\n"
     ]
    },
    {
     "data": {
      "application/vnd.jupyter.widget-view+json": {
       "model_id": "9baafc5ff6b14cc395bc20d8d814d3f4",
       "version_major": 2,
       "version_minor": 0
      },
      "text/plain": [
       "HBox(children=(IntProgress(value=0, max=512), HTML(value='')))"
      ]
     },
     "metadata": {},
     "output_type": "display_data"
    },
    {
     "name": "stdout",
     "output_type": "stream",
     "text": [
      "\n",
      "AUC: 0.97112\n",
      "117709 Test Records added for iteration :  1\n"
     ]
    },
    {
     "data": {
      "application/vnd.jupyter.widget-view+json": {
       "model_id": "6d423f77750040cfb6b1260b23ee1aa3",
       "version_major": 2,
       "version_minor": 0
      },
      "text/plain": [
       "HBox(children=(IntProgress(value=0, max=512), HTML(value='')))"
      ]
     },
     "metadata": {},
     "output_type": "display_data"
    },
    {
     "name": "stdout",
     "output_type": "stream",
     "text": [
      "\n",
      "AUC: 0.97045\n",
      "118766 Test Records added for iteration :  2\n"
     ]
    },
    {
     "data": {
      "application/vnd.jupyter.widget-view+json": {
       "model_id": "274cdbcdb64a430796f9ad141b46a7db",
       "version_major": 2,
       "version_minor": 0
      },
      "text/plain": [
       "HBox(children=(IntProgress(value=0, max=512), HTML(value='')))"
      ]
     },
     "metadata": {},
     "output_type": "display_data"
    },
    {
     "name": "stdout",
     "output_type": "stream",
     "text": [
      "\n",
      "AUC: 0.97043\n",
      "118916 Test Records added for iteration :  3\n"
     ]
    },
    {
     "data": {
      "application/vnd.jupyter.widget-view+json": {
       "model_id": "f0d45738d5524812bdfef5f180e3eaca",
       "version_major": 2,
       "version_minor": 0
      },
      "text/plain": [
       "HBox(children=(IntProgress(value=0, max=512), HTML(value='')))"
      ]
     },
     "metadata": {},
     "output_type": "display_data"
    },
    {
     "name": "stdout",
     "output_type": "stream",
     "text": [
      "\n",
      "AUC: 0.97042\n",
      "118943 Test Records added for iteration :  4\n"
     ]
    },
    {
     "data": {
      "application/vnd.jupyter.widget-view+json": {
       "model_id": "d2082950053d48b4a385ed6e4d441cbb",
       "version_major": 2,
       "version_minor": 0
      },
      "text/plain": [
       "HBox(children=(IntProgress(value=0, max=512), HTML(value='')))"
      ]
     },
     "metadata": {},
     "output_type": "display_data"
    },
    {
     "name": "stdout",
     "output_type": "stream",
     "text": [
      "\n",
      "AUC: 0.97043\n",
      "118947 Test Records added for iteration :  5\n"
     ]
    },
    {
     "data": {
      "application/vnd.jupyter.widget-view+json": {
       "model_id": "85e7b8077eb84738a3b457903f574f6f",
       "version_major": 2,
       "version_minor": 0
      },
      "text/plain": [
       "HBox(children=(IntProgress(value=0, max=512), HTML(value='')))"
      ]
     },
     "metadata": {},
     "output_type": "display_data"
    },
    {
     "name": "stdout",
     "output_type": "stream",
     "text": [
      "\n",
      "AUC: 0.97043\n",
      "118947 Test Records added for iteration :  6\n"
     ]
    },
    {
     "data": {
      "application/vnd.jupyter.widget-view+json": {
       "model_id": "9fc1f915d30247c9889b4034a5221a5d",
       "version_major": 2,
       "version_minor": 0
      },
      "text/plain": [
       "HBox(children=(IntProgress(value=0, max=512), HTML(value='')))"
      ]
     },
     "metadata": {},
     "output_type": "display_data"
    },
    {
     "name": "stdout",
     "output_type": "stream",
     "text": [
      "\n",
      "AUC: 0.97043\n",
      "118947 Test Records added for iteration :  7\n"
     ]
    },
    {
     "data": {
      "application/vnd.jupyter.widget-view+json": {
       "model_id": "ab387af62ac44b3c950072cac50efc4c",
       "version_major": 2,
       "version_minor": 0
      },
      "text/plain": [
       "HBox(children=(IntProgress(value=0, max=512), HTML(value='')))"
      ]
     },
     "metadata": {},
     "output_type": "display_data"
    },
    {
     "name": "stdout",
     "output_type": "stream",
     "text": [
      "\n",
      "AUC: 0.97043\n",
      "118947 Test Records added for iteration :  8\n"
     ]
    },
    {
     "data": {
      "application/vnd.jupyter.widget-view+json": {
       "model_id": "3409a211c3564c7fb03e4d20f1d8bb00",
       "version_major": 2,
       "version_minor": 0
      },
      "text/plain": [
       "HBox(children=(IntProgress(value=0, max=512), HTML(value='')))"
      ]
     },
     "metadata": {},
     "output_type": "display_data"
    },
    {
     "name": "stdout",
     "output_type": "stream",
     "text": [
      "\n",
      "AUC: 0.97043\n",
      "118947 Test Records added for iteration :  9\n"
     ]
    },
    {
     "data": {
      "application/vnd.jupyter.widget-view+json": {
       "model_id": "e97b9714a6934fa8ad1c2340dcf447e8",
       "version_major": 2,
       "version_minor": 0
      },
      "text/plain": [
       "HBox(children=(IntProgress(value=0, max=512), HTML(value='')))"
      ]
     },
     "metadata": {},
     "output_type": "display_data"
    },
    {
     "name": "stdout",
     "output_type": "stream",
     "text": [
      "\n",
      "AUC: 0.97043\n"
     ]
    }
   ],
   "source": [
    "import numpy as np\n",
    "import pandas as pd\n",
    "from sklearn.model_selection import StratifiedKFold\n",
    "from sklearn.metrics import roc_auc_score\n",
    "from sklearn.preprocessing import StandardScaler\n",
    "from sklearn.feature_selection import VarianceThreshold\n",
    "from sklearn.discriminant_analysis import QuadraticDiscriminantAnalysis, LinearDiscriminantAnalysis\n",
    "from sklearn.pipeline import Pipeline\n",
    "from tqdm import tqdm_notebook\n",
    "import warnings\n",
    "import multiprocessing\n",
    "from scipy.optimize import minimize  \n",
    "import time\n",
    "from sklearn.model_selection import GridSearchCV, train_test_split\n",
    "\n",
    "warnings.filterwarnings('ignore')\n",
    "# STEP 2\n",
    "train = pd.read_csv('../input/train.csv')\n",
    "test = pd.read_csv('../input/test.csv')\n",
    "cols = [c for c in train.columns if c not in ['id', 'target', 'wheezy-copper-turtle-magic']]\n",
    "print(train.shape, test.shape)\n",
    "# STEP 3\n",
    "oof = np.zeros(len(train))\n",
    "preds = np.zeros(len(test))\n",
    "params = [{'reg_param': [0.1, 0.2, 0.3, 0.4, 0.5]}]\n",
    "\n",
    "# 512 models\n",
    "reg_params = np.zeros(512)\n",
    "for i in tqdm_notebook(range(512)):\n",
    "\n",
    "    train2 = train[train['wheezy-copper-turtle-magic']==i]\n",
    "    test2 = test[test['wheezy-copper-turtle-magic']==i]\n",
    "    idx1 = train2.index; idx2 = test2.index\n",
    "    train2.reset_index(drop=True,inplace=True)\n",
    "\n",
    "    data = pd.concat([pd.DataFrame(train2[cols]), pd.DataFrame(test2[cols])])\n",
    "    pipe = Pipeline([('vt', VarianceThreshold(threshold=2)), ('scaler', StandardScaler())])\n",
    "    data2 = pipe.fit_transform(data[cols])\n",
    "    train3 = data2[:train2.shape[0]]; test3 = data2[train2.shape[0]:]\n",
    "\n",
    "    skf = StratifiedKFold(n_splits=11, random_state=42)\n",
    "    for train_index, test_index in skf.split(train2, train2['target']):\n",
    "\n",
    "        qda = QuadraticDiscriminantAnalysis()\n",
    "        clf = GridSearchCV(qda, params, cv=4)\n",
    "        clf.fit(train3[train_index,:],train2.loc[train_index]['target'])\n",
    "        reg_params[i] = clf.best_params_['reg_param']\n",
    "        oof[idx1[test_index]] = clf.predict_proba(train3[test_index,:])[:,1]\n",
    "        preds[idx2] += clf.predict_proba(test3)[:,1] / skf.n_splits\n",
    "\n",
    "auc = roc_auc_score(train['target'], oof)\n",
    "print(f'AUC: {auc:.5}')\n",
    "\n",
    "# STEP 4\n",
    "for itr in range(10):\n",
    "    test['target'] = preds\n",
    "    test.loc[test['target'] > 0.955, 'target'] = 1 # initial 94\n",
    "    test.loc[test['target'] < 0.045, 'target'] = 0 # initial 06\n",
    "    usefull_test = test[(test['target'] == 1) | (test['target'] == 0)]\n",
    "    new_train = pd.concat([train, usefull_test]).reset_index(drop=True)\n",
    "    print(usefull_test.shape[0], \"Test Records added for iteration : \", itr)\n",
    "    new_train.loc[oof > 0.995, 'target'] = 1 # initial 98\n",
    "    new_train.loc[oof < 0.005, 'target'] = 0 # initial 02\n",
    "    oof2 = np.zeros(len(train))\n",
    "    preds = np.zeros(len(test))\n",
    "    for i in tqdm_notebook(range(512)):\n",
    "\n",
    "        train2 = new_train[new_train['wheezy-copper-turtle-magic']==i]\n",
    "        test2 = test[test['wheezy-copper-turtle-magic']==i]\n",
    "        idx1 = train[train['wheezy-copper-turtle-magic']==i].index\n",
    "        idx2 = test2.index\n",
    "        train2.reset_index(drop=True,inplace=True)\n",
    "\n",
    "        data = pd.concat([pd.DataFrame(train2[cols]), pd.DataFrame(test2[cols])])\n",
    "        pipe = Pipeline([('vt', VarianceThreshold(threshold=2)), ('scaler', StandardScaler())])\n",
    "        data2 = pipe.fit_transform(data[cols])\n",
    "        train3 = data2[:train2.shape[0]]\n",
    "        test3 = data2[train2.shape[0]:]\n",
    "\n",
    "        skf = StratifiedKFold(n_splits=11, random_state=time.time)\n",
    "        for train_index, test_index in skf.split(train2, train2['target']):\n",
    "            oof_test_index = [t for t in test_index if t < len(idx1)]\n",
    "            \n",
    "            clf = QuadraticDiscriminantAnalysis(reg_params[i])\n",
    "            clf.fit(train3[train_index,:],train2.loc[train_index]['target'])\n",
    "            if len(oof_test_index) > 0:\n",
    "                oof2[idx1[oof_test_index]] = clf.predict_proba(train3[oof_test_index,:])[:,1]\n",
    "            preds[idx2] += clf.predict_proba(test3)[:,1] / skf.n_splits\n",
    "    auc = roc_auc_score(train['target'], oof2)\n",
    "    print(f'AUC: {auc:.5}')\n",
    "    \n",
    "# STEP 5\n",
    "sub3 = pd.read_csv('../input/sample_submission.csv')\n",
    "sub3['target'] = preds\n",
    "# sub.to_csv('submission.csv',index=False)"
   ]
  },
  {
   "cell_type": "code",
   "execution_count": 12,
   "metadata": {},
   "outputs": [
    {
     "data": {
      "text/html": [
       "<div>\n",
       "<style scoped>\n",
       "    .dataframe tbody tr th:only-of-type {\n",
       "        vertical-align: middle;\n",
       "    }\n",
       "\n",
       "    .dataframe tbody tr th {\n",
       "        vertical-align: top;\n",
       "    }\n",
       "\n",
       "    .dataframe thead th {\n",
       "        text-align: right;\n",
       "    }\n",
       "</style>\n",
       "<table border=\"1\" class=\"dataframe\">\n",
       "  <thead>\n",
       "    <tr style=\"text-align: right;\">\n",
       "      <th></th>\n",
       "      <th>id</th>\n",
       "      <th>target</th>\n",
       "    </tr>\n",
       "  </thead>\n",
       "  <tbody>\n",
       "    <tr>\n",
       "      <th>0</th>\n",
       "      <td>1c13f2701648e0b0d46d8a2a5a131a53</td>\n",
       "      <td>0.5</td>\n",
       "    </tr>\n",
       "    <tr>\n",
       "      <th>1</th>\n",
       "      <td>ba88c155ba898fc8b5099893036ef205</td>\n",
       "      <td>0.5</td>\n",
       "    </tr>\n",
       "    <tr>\n",
       "      <th>2</th>\n",
       "      <td>7cbab5cea99169139e7e6d8ff74ebb77</td>\n",
       "      <td>0.5</td>\n",
       "    </tr>\n",
       "    <tr>\n",
       "      <th>3</th>\n",
       "      <td>ca820ad57809f62eb7b4d13f5d4371a0</td>\n",
       "      <td>0.5</td>\n",
       "    </tr>\n",
       "    <tr>\n",
       "      <th>4</th>\n",
       "      <td>7baaf361537fbd8a1aaa2c97a6d4ccc7</td>\n",
       "      <td>0.5</td>\n",
       "    </tr>\n",
       "  </tbody>\n",
       "</table>\n",
       "</div>"
      ],
      "text/plain": [
       "                                 id  target\n",
       "0  1c13f2701648e0b0d46d8a2a5a131a53     0.5\n",
       "1  ba88c155ba898fc8b5099893036ef205     0.5\n",
       "2  7cbab5cea99169139e7e6d8ff74ebb77     0.5\n",
       "3  ca820ad57809f62eb7b4d13f5d4371a0     0.5\n",
       "4  7baaf361537fbd8a1aaa2c97a6d4ccc7     0.5"
      ]
     },
     "execution_count": 12,
     "metadata": {},
     "output_type": "execute_result"
    }
   ],
   "source": [
    "sub = pd.read_csv('../input/sample_submission.csv')\n",
    "sub.head()"
   ]
  },
  {
   "cell_type": "code",
   "execution_count": 13,
   "metadata": {},
   "outputs": [],
   "source": [
    "sub['target'] = 1/3*sub1.target + 1/3*sub2.target + 1/3*sub3.target"
   ]
  },
  {
   "cell_type": "code",
   "execution_count": 14,
   "metadata": {},
   "outputs": [],
   "source": []
  },
  {
   "cell_type": "code",
   "execution_count": 14,
   "metadata": {},
   "outputs": [],
   "source": [
    "import numpy as np\n",
    "import pandas as pd\n",
    "from sklearn.model_selection import StratifiedKFold\n",
    "from sklearn.metrics import roc_auc_score\n",
    "from sklearn.preprocessing import StandardScaler\n",
    "from sklearn.feature_selection import VarianceThreshold\n",
    "from sklearn.discriminant_analysis import QuadraticDiscriminantAnalysis\n",
    "from sklearn.svm import NuSVC\n",
    "from sklearn.decomposition import PCA\n",
    "from sklearn.neighbors import KNeighborsClassifier\n",
    "from sklearn.linear_model import LogisticRegression\n",
    "from tqdm import tqdm_notebook\n",
    "import warnings\n",
    "import multiprocessing\n",
    "from scipy.optimize import minimize  \n",
    "warnings.filterwarnings('ignore')"
   ]
  },
  {
   "cell_type": "code",
   "execution_count": 15,
   "metadata": {},
   "outputs": [],
   "source": [
    "train1 = pd.read_csv('../input/train.csv')\n",
    "test1 = pd.read_csv('../input/test.csv')\n",
    "cols1 = [c for c in train1.columns if c not in ['id', 'target', 'wheezy-copper-turtle-magic']]"
   ]
  },
  {
   "cell_type": "code",
   "execution_count": 16,
   "metadata": {},
   "outputs": [],
   "source": [
    "def instant_model(train, test, cols = cols1, clf = QuadraticDiscriminantAnalysis(0.5), selection = \"PCA\"):\n",
    "    oof = np.zeros(len(train))\n",
    "    preds = np.zeros(len(test))\n",
    "\n",
    "    for i in tqdm_notebook(range(512)):\n",
    "\n",
    "        train2 = train[train['wheezy-copper-turtle-magic'] == i]\n",
    "        test2 = test[test['wheezy-copper-turtle-magic'] == i]\n",
    "        idx1 = train2.index\n",
    "        idx2 = test2.index\n",
    "\n",
    "        data = pd.concat([pd.DataFrame(train2[cols]), pd.DataFrame(test2[cols])])\n",
    "        \n",
    "        if selection == \"variance\":\n",
    "            # StandardScaler & Variance selection\n",
    "            data2 = StandardScaler().fit_transform(VarianceThreshold(threshold=2).fit_transform(data[cols]))\n",
    "            train3 = pd.DataFrame(data2[:train2.shape[0]], index = idx1)\n",
    "            test3 = pd.DataFrame(data2[train2.shape[0]:], index = idx2)\n",
    "            \n",
    "        elif selection == \"PCA\":\n",
    "            # PCA\n",
    "            pca = PCA(n_components = 40, random_state= 1234)\n",
    "            pca.fit(data[:train2.shape[0]])\n",
    "            train3 = pd.DataFrame(pca.transform(data[:train2.shape[0]]), index = idx1)\n",
    "            test3 = pd.DataFrame(pca.transform(data[train2.shape[0]:]), index = idx2)\n",
    "        \n",
    "        train3['target'] = train2['target']\n",
    "\n",
    "        # Kfold\n",
    "        skf = StratifiedKFold(n_splits=11, random_state=42)\n",
    "        for train_index, test_index in skf.split(train3, train3['target']):\n",
    "            # clf\n",
    "            clf = clf\n",
    "            X_train = train3.iloc[train_index, :].drop([\"target\"], axis = 1)\n",
    "            X_test = train3.iloc[test_index, :].drop([\"target\"], axis = 1)\n",
    "            y_train = train3.iloc[train_index, :]['target']\n",
    "            y_test = train3.iloc[test_index, :]['target']\n",
    "            clf.fit(X_train, y_train)\n",
    "\n",
    "            # output\n",
    "            train_prob = clf.predict_proba(X_train)[:,1]\n",
    "            test_prob = clf.predict_proba(X_test)[:,1]\n",
    "            oof[idx1[test_index]] = test_prob\n",
    "\n",
    "            # bagging\n",
    "            preds[idx2] += clf.predict_proba(test3)[:,1] / skf.n_splits\n",
    "            # print(\"Chunk {0} Fold {1}\".format(i, roc_auc_score(y_test, test_prob)))\n",
    "\n",
    "    auc = roc_auc_score(train['target'], oof)\n",
    "    print(f'AUC: {auc:.5}')\n",
    "    \n",
    "    return oof, preds"
   ]
  },
  {
   "cell_type": "code",
   "execution_count": 17,
   "metadata": {},
   "outputs": [],
   "source": [
    "def get_newtrain(train, test, preds, oof):\n",
    "    # get useful train set from train and test data\n",
    "    # get useful test \n",
    "    test['target'] = preds\n",
    "    test.loc[test['target'] > 0.985, 'target'] = 1\n",
    "    test.loc[test['target'] < 0.015, 'target'] = 0\n",
    "    usefull_test = test[(test['target'] == 1) | (test['target'] == 0)]\n",
    "\n",
    "    # get useful train \n",
    "    new_train = pd.concat([train, usefull_test]).reset_index(drop=True)\n",
    "    new_train.loc[oof > 0.985, 'target'] = 1\n",
    "    new_train.loc[oof < 0.015, 'target'] = 0\n",
    "    return new_train"
   ]
  },
  {
   "cell_type": "code",
   "execution_count": 18,
   "metadata": {},
   "outputs": [
    {
     "data": {
      "application/vnd.jupyter.widget-view+json": {
       "model_id": "49ce9a158d334b69a70d0acb30b7e0a8",
       "version_major": 2,
       "version_minor": 0
      },
      "text/plain": [
       "HBox(children=(IntProgress(value=0, max=512), HTML(value='')))"
      ]
     },
     "metadata": {},
     "output_type": "display_data"
    },
    {
     "name": "stdout",
     "output_type": "stream",
     "text": [
      "\n",
      "AUC: 0.9649\n"
     ]
    }
   ],
   "source": [
    "oof_temp, preds_temp = instant_model(train1, test1, selection = 'variance')\n",
    "newtrain1 = get_newtrain(train1, test1, preds_temp, oof_temp)"
   ]
  },
  {
   "cell_type": "code",
   "execution_count": 19,
   "metadata": {},
   "outputs": [
    {
     "data": {
      "application/vnd.jupyter.widget-view+json": {
       "model_id": "4559e32f7500417589ef5ad1557cb0e9",
       "version_major": 2,
       "version_minor": 0
      },
      "text/plain": [
       "HBox(children=(IntProgress(value=0, max=512), HTML(value='')))"
      ]
     },
     "metadata": {},
     "output_type": "display_data"
    },
    {
     "name": "stdout",
     "output_type": "stream",
     "text": [
      "\n",
      "AUC: 0.99787\n"
     ]
    },
    {
     "data": {
      "application/vnd.jupyter.widget-view+json": {
       "model_id": "b6ac9fbb374c4f7babfb02564263fefd",
       "version_major": 2,
       "version_minor": 0
      },
      "text/plain": [
       "HBox(children=(IntProgress(value=0, max=512), HTML(value='')))"
      ]
     },
     "metadata": {},
     "output_type": "display_data"
    },
    {
     "name": "stdout",
     "output_type": "stream",
     "text": [
      "\n",
      "AUC: 0.97541\n"
     ]
    }
   ],
   "source": [
    "oof_qda_var, preds_qda_var = instant_model(newtrain1, test1, selection = 'variance')\n",
    "# oof_nusvm, preds_nusvm = instant_model(newtrain1, test1, clf = NuSVC(probability = True, kernel = 'poly'))\n",
    "oof_knn_var, preds_knn_var = instant_model(newtrain1, test1, \\\n",
    "                                   clf = KNeighborsClassifier(n_neighbors = 10, p = 2, weights = 'distance'),\\\n",
    "                                   selection = 'variance')"
   ]
  },
  {
   "cell_type": "code",
   "execution_count": 20,
   "metadata": {},
   "outputs": [
    {
     "data": {
      "application/vnd.jupyter.widget-view+json": {
       "model_id": "e1c12bc4cd3440ca9924b3effcad54f0",
       "version_major": 2,
       "version_minor": 0
      },
      "text/plain": [
       "HBox(children=(IntProgress(value=0, max=512), HTML(value='')))"
      ]
     },
     "metadata": {},
     "output_type": "display_data"
    },
    {
     "name": "stdout",
     "output_type": "stream",
     "text": [
      "\n",
      "AUC: 0.99654\n"
     ]
    },
    {
     "data": {
      "application/vnd.jupyter.widget-view+json": {
       "model_id": "551b480d0b38452a9e1a30a0f7d0f040",
       "version_major": 2,
       "version_minor": 0
      },
      "text/plain": [
       "HBox(children=(IntProgress(value=0, max=512), HTML(value='')))"
      ]
     },
     "metadata": {},
     "output_type": "display_data"
    },
    {
     "name": "stdout",
     "output_type": "stream",
     "text": [
      "\n",
      "AUC: 0.97321\n"
     ]
    }
   ],
   "source": [
    "oof_qda_pca, preds_qda_pca = instant_model(newtrain1, test1)\n",
    "# oof_nusvm, preds_nusvm = instant_model(newtrain1, test1, clf = NuSVC(probability = True, kernel = 'poly'))\n",
    "oof_knn_pca, preds_knn_pca = instant_model(newtrain1, test1, \\\n",
    "                                           clf = KNeighborsClassifier(n_neighbors = 10, p = 2, weights = 'distance'))"
   ]
  },
  {
   "cell_type": "code",
   "execution_count": 21,
   "metadata": {},
   "outputs": [
    {
     "name": "stdout",
     "output_type": "stream",
     "text": [
      "ROC_AUC: 0.9964154990151562\n"
     ]
    }
   ],
   "source": [
    "logit = LogisticRegression()\n",
    "newX_train_stack = pd.DataFrame({\"QDA_var\": oof_qda_var, \"QDA_pca\": oof_qda_pca, \\\n",
    "                                 \"KNN_var\": oof_knn_var, \"KNN_pca\": oof_knn_pca})\n",
    "newX_test_stack = pd.DataFrame({\"QDA_var\": preds_qda_var, \"QDA_pca\": preds_qda_pca, \\\n",
    "                                \"KNN_var\": preds_knn_var, \"KNN_pca\": preds_knn_pca})\n",
    "newy_stack = newtrain1['target']\n",
    "logit.fit(newX_train_stack, newy_stack)\n",
    "pred_stack_train = logit.predict_proba(newX_train_stack)[:,1]\n",
    "pred_stack_test = logit.predict_proba(newX_test_stack)[:,1]\n",
    "print(\"ROC_AUC: {0}\".format(roc_auc_score(newy_stack, pred_stack_train)))\n",
    "stack_result = logit.predict_proba(newX_test_stack)[:,1]"
   ]
  },
  {
   "cell_type": "code",
   "execution_count": 22,
   "metadata": {},
   "outputs": [],
   "source": [
    "subx = pd.read_csv('../input/sample_submission.csv')\n",
    "subx['target'] = stack_result"
   ]
  },
  {
   "cell_type": "code",
   "execution_count": 23,
   "metadata": {},
   "outputs": [],
   "source": []
  },
  {
   "cell_type": "code",
   "execution_count": 23,
   "metadata": {},
   "outputs": [
    {
     "data": {
      "text/html": [
       "<div>\n",
       "<style scoped>\n",
       "    .dataframe tbody tr th:only-of-type {\n",
       "        vertical-align: middle;\n",
       "    }\n",
       "\n",
       "    .dataframe tbody tr th {\n",
       "        vertical-align: top;\n",
       "    }\n",
       "\n",
       "    .dataframe thead th {\n",
       "        text-align: right;\n",
       "    }\n",
       "</style>\n",
       "<table border=\"1\" class=\"dataframe\">\n",
       "  <thead>\n",
       "    <tr style=\"text-align: right;\">\n",
       "      <th></th>\n",
       "      <th>id</th>\n",
       "      <th>muggy-smalt-axolotl-pembus</th>\n",
       "      <th>dorky-peach-sheepdog-ordinal</th>\n",
       "      <th>slimy-seashell-cassowary-goose</th>\n",
       "      <th>snazzy-harlequin-chicken-distraction</th>\n",
       "      <th>frumpy-smalt-mau-ordinal</th>\n",
       "      <th>stealthy-beige-pinscher-golden</th>\n",
       "      <th>chummy-cream-tarantula-entropy</th>\n",
       "      <th>hazy-emerald-cuttlefish-unsorted</th>\n",
       "      <th>nerdy-indigo-wolfhound-sorted</th>\n",
       "      <th>leaky-amaranth-lizard-sorted</th>\n",
       "      <th>ugly-tangerine-chihuahua-important</th>\n",
       "      <th>shaggy-silver-indri-fimbus</th>\n",
       "      <th>flaky-chocolate-beetle-grandmaster</th>\n",
       "      <th>squirrely-harlequin-sheep-sumble</th>\n",
       "      <th>freaky-tan-angelfish-noise</th>\n",
       "      <th>lousy-plum-penguin-sumble</th>\n",
       "      <th>bluesy-rose-wallaby-discard</th>\n",
       "      <th>baggy-copper-oriole-dummy</th>\n",
       "      <th>stealthy-scarlet-hound-fepid</th>\n",
       "      <th>greasy-cinnamon-bonobo-contributor</th>\n",
       "      <th>cranky-cardinal-dogfish-ordinal</th>\n",
       "      <th>snippy-auburn-vole-learn</th>\n",
       "      <th>greasy-sepia-coral-dataset</th>\n",
       "      <th>flabby-tangerine-fowl-entropy</th>\n",
       "      <th>lousy-smalt-pinscher-dummy</th>\n",
       "      <th>bluesy-brass-chihuahua-distraction</th>\n",
       "      <th>goopy-eggplant-indri-entropy</th>\n",
       "      <th>homey-sepia-bombay-sorted</th>\n",
       "      <th>homely-ruby-bulldog-entropy</th>\n",
       "      <th>hasty-blue-sheep-contributor</th>\n",
       "      <th>blurry-wisteria-oyster-master</th>\n",
       "      <th>snoopy-auburn-dogfish-expert</th>\n",
       "      <th>stinky-maroon-blue-kernel</th>\n",
       "      <th>bumpy-amaranth-armadillo-important</th>\n",
       "      <th>slaphappy-peach-oyster-master</th>\n",
       "      <th>dorky-tomato-ragdoll-dataset</th>\n",
       "      <th>messy-mauve-wolverine-ordinal</th>\n",
       "      <th>geeky-pumpkin-moorhen-important</th>\n",
       "      <th>crabby-teal-otter-unsorted</th>\n",
       "      <th>...</th>\n",
       "      <th>beady-mauve-frog-distraction</th>\n",
       "      <th>surly-brass-maltese-ordinal</th>\n",
       "      <th>beady-asparagus-opossum-expert</th>\n",
       "      <th>beady-rust-impala-dummy</th>\n",
       "      <th>droopy-amethyst-dachshund-hint</th>\n",
       "      <th>homey-crimson-budgerigar-grandmaster</th>\n",
       "      <th>droopy-cardinal-impala-important</th>\n",
       "      <th>woozy-apricot-moose-hint</th>\n",
       "      <th>paltry-sapphire-labradoodle-dummy</th>\n",
       "      <th>crappy-carmine-eagle-entropy</th>\n",
       "      <th>greasy-magnolia-spider-grandmaster</th>\n",
       "      <th>crabby-carmine-flounder-sorted</th>\n",
       "      <th>skimpy-copper-fowl-grandmaster</th>\n",
       "      <th>hasty-seashell-woodpecker-hint</th>\n",
       "      <th>snappy-purple-bobcat-important</th>\n",
       "      <th>thirsty-carmine-corgi-ordinal</th>\n",
       "      <th>homely-auburn-reindeer-unsorted</th>\n",
       "      <th>crappy-beige-tiger-fepid</th>\n",
       "      <th>cranky-auburn-swan-novice</th>\n",
       "      <th>chewy-bistre-buzzard-expert</th>\n",
       "      <th>skinny-cyan-macaque-pembus</th>\n",
       "      <th>slimy-periwinkle-otter-expert</th>\n",
       "      <th>snazzy-burgundy-clam-novice</th>\n",
       "      <th>cozy-ochre-gorilla-gaussian</th>\n",
       "      <th>homey-sangria-wolfhound-dummy</th>\n",
       "      <th>snazzy-asparagus-hippopotamus-contributor</th>\n",
       "      <th>paltry-red-hamster-sorted</th>\n",
       "      <th>zippy-dandelion-insect-golden</th>\n",
       "      <th>baggy-coral-bandicoot-unsorted</th>\n",
       "      <th>goopy-lavender-wolverine-fimbus</th>\n",
       "      <th>wheezy-myrtle-mandrill-entropy</th>\n",
       "      <th>wiggy-lilac-lemming-sorted</th>\n",
       "      <th>gloppy-cerise-snail-contributor</th>\n",
       "      <th>woozy-silver-havanese-gaussian</th>\n",
       "      <th>jumpy-thistle-discus-sorted</th>\n",
       "      <th>muggy-turquoise-donkey-important</th>\n",
       "      <th>blurry-buff-hyena-entropy</th>\n",
       "      <th>bluesy-chocolate-kudu-fepid</th>\n",
       "      <th>gamy-white-monster-expert</th>\n",
       "      <th>target</th>\n",
       "    </tr>\n",
       "  </thead>\n",
       "  <tbody>\n",
       "    <tr>\n",
       "      <th>0</th>\n",
       "      <td>707b395ecdcbb4dc2eabea00e4d1b179</td>\n",
       "      <td>-2.070654</td>\n",
       "      <td>1.018160</td>\n",
       "      <td>0.228643</td>\n",
       "      <td>0.857221</td>\n",
       "      <td>0.052271</td>\n",
       "      <td>0.230303</td>\n",
       "      <td>-6.385090</td>\n",
       "      <td>0.439369</td>\n",
       "      <td>-0.721946</td>\n",
       "      <td>-0.227027</td>\n",
       "      <td>0.575964</td>\n",
       "      <td>1.541908</td>\n",
       "      <td>1.745286</td>\n",
       "      <td>-0.624271</td>\n",
       "      <td>3.600958</td>\n",
       "      <td>1.176489</td>\n",
       "      <td>-0.182776</td>\n",
       "      <td>-0.228391</td>\n",
       "      <td>1.682263</td>\n",
       "      <td>-0.833236</td>\n",
       "      <td>-4.377688</td>\n",
       "      <td>-5.372410</td>\n",
       "      <td>-0.477742</td>\n",
       "      <td>-0.179005</td>\n",
       "      <td>-0.516475</td>\n",
       "      <td>0.127391</td>\n",
       "      <td>-0.857591</td>\n",
       "      <td>-0.461500</td>\n",
       "      <td>2.160303</td>\n",
       "      <td>-2.118371</td>\n",
       "      <td>0.515493</td>\n",
       "      <td>-1.201493</td>\n",
       "      <td>-0.027377</td>\n",
       "      <td>-1.154024</td>\n",
       "      <td>0.753204</td>\n",
       "      <td>-0.179651</td>\n",
       "      <td>-0.807341</td>\n",
       "      <td>-1.663626</td>\n",
       "      <td>0.893806</td>\n",
       "      <td>...</td>\n",
       "      <td>-1.829848</td>\n",
       "      <td>2.347131</td>\n",
       "      <td>0.082462</td>\n",
       "      <td>-1.012654</td>\n",
       "      <td>0.593752</td>\n",
       "      <td>2.904654</td>\n",
       "      <td>-0.428974</td>\n",
       "      <td>-0.919979</td>\n",
       "      <td>2.849575</td>\n",
       "      <td>-0.906744</td>\n",
       "      <td>0.729459</td>\n",
       "      <td>0.386140</td>\n",
       "      <td>0.319814</td>\n",
       "      <td>-0.407682</td>\n",
       "      <td>-0.170667</td>\n",
       "      <td>-1.242919</td>\n",
       "      <td>-1.719046</td>\n",
       "      <td>-0.132395</td>\n",
       "      <td>-0.368991</td>\n",
       "      <td>-5.112553</td>\n",
       "      <td>-2.085988</td>\n",
       "      <td>-0.897257</td>\n",
       "      <td>1.080671</td>\n",
       "      <td>-0.273262</td>\n",
       "      <td>0.342824</td>\n",
       "      <td>0.640177</td>\n",
       "      <td>-0.415298</td>\n",
       "      <td>-0.483126</td>\n",
       "      <td>-0.080799</td>\n",
       "      <td>2.416224</td>\n",
       "      <td>0.351895</td>\n",
       "      <td>0.618824</td>\n",
       "      <td>-1.542423</td>\n",
       "      <td>0.598175</td>\n",
       "      <td>0.611757</td>\n",
       "      <td>0.678772</td>\n",
       "      <td>0.247059</td>\n",
       "      <td>-0.806677</td>\n",
       "      <td>-0.193649</td>\n",
       "      <td>0</td>\n",
       "    </tr>\n",
       "    <tr>\n",
       "      <th>1</th>\n",
       "      <td>5880c03c6582a7b42248668e56b4bdec</td>\n",
       "      <td>-0.491702</td>\n",
       "      <td>0.082645</td>\n",
       "      <td>-0.011193</td>\n",
       "      <td>1.071266</td>\n",
       "      <td>-0.346347</td>\n",
       "      <td>-0.082209</td>\n",
       "      <td>0.110579</td>\n",
       "      <td>-0.382374</td>\n",
       "      <td>-0.229620</td>\n",
       "      <td>0.783980</td>\n",
       "      <td>-1.280579</td>\n",
       "      <td>-1.003480</td>\n",
       "      <td>-7.753201</td>\n",
       "      <td>-1.320547</td>\n",
       "      <td>0.919078</td>\n",
       "      <td>-1.036068</td>\n",
       "      <td>0.030213</td>\n",
       "      <td>0.910172</td>\n",
       "      <td>-0.905345</td>\n",
       "      <td>0.646641</td>\n",
       "      <td>-0.465291</td>\n",
       "      <td>-0.531735</td>\n",
       "      <td>-0.756781</td>\n",
       "      <td>0.193724</td>\n",
       "      <td>0.224277</td>\n",
       "      <td>-0.474412</td>\n",
       "      <td>1.885805</td>\n",
       "      <td>0.205439</td>\n",
       "      <td>-6.481422</td>\n",
       "      <td>1.035620</td>\n",
       "      <td>-0.453623</td>\n",
       "      <td>0.375936</td>\n",
       "      <td>-0.320670</td>\n",
       "      <td>-0.144646</td>\n",
       "      <td>-0.220129</td>\n",
       "      <td>0.577826</td>\n",
       "      <td>-0.360512</td>\n",
       "      <td>-0.600107</td>\n",
       "      <td>0.008111</td>\n",
       "      <td>...</td>\n",
       "      <td>0.982205</td>\n",
       "      <td>-1.161978</td>\n",
       "      <td>0.532269</td>\n",
       "      <td>1.133215</td>\n",
       "      <td>0.003503</td>\n",
       "      <td>-1.390962</td>\n",
       "      <td>0.158572</td>\n",
       "      <td>0.143794</td>\n",
       "      <td>-0.317185</td>\n",
       "      <td>1.017192</td>\n",
       "      <td>-0.395342</td>\n",
       "      <td>-0.642357</td>\n",
       "      <td>-0.627209</td>\n",
       "      <td>0.257271</td>\n",
       "      <td>-1.461564</td>\n",
       "      <td>0.325613</td>\n",
       "      <td>1.628369</td>\n",
       "      <td>0.640040</td>\n",
       "      <td>0.750735</td>\n",
       "      <td>1.164573</td>\n",
       "      <td>0.900373</td>\n",
       "      <td>0.063489</td>\n",
       "      <td>0.948158</td>\n",
       "      <td>0.273014</td>\n",
       "      <td>-1.269147</td>\n",
       "      <td>-0.251101</td>\n",
       "      <td>-2.271731</td>\n",
       "      <td>-0.044167</td>\n",
       "      <td>-0.443766</td>\n",
       "      <td>-1.144794</td>\n",
       "      <td>-0.645115</td>\n",
       "      <td>-1.246090</td>\n",
       "      <td>2.613357</td>\n",
       "      <td>-0.479664</td>\n",
       "      <td>1.581289</td>\n",
       "      <td>0.931258</td>\n",
       "      <td>0.151937</td>\n",
       "      <td>-0.766595</td>\n",
       "      <td>0.474351</td>\n",
       "      <td>0</td>\n",
       "    </tr>\n",
       "    <tr>\n",
       "      <th>2</th>\n",
       "      <td>4ccbcb3d13e5072ff1d9c61afe2c4f77</td>\n",
       "      <td>-1.680473</td>\n",
       "      <td>0.860529</td>\n",
       "      <td>-1.076195</td>\n",
       "      <td>0.740124</td>\n",
       "      <td>3.678445</td>\n",
       "      <td>0.288558</td>\n",
       "      <td>0.515875</td>\n",
       "      <td>0.920590</td>\n",
       "      <td>-1.223277</td>\n",
       "      <td>-1.029780</td>\n",
       "      <td>-2.203397</td>\n",
       "      <td>-7.088717</td>\n",
       "      <td>0.438218</td>\n",
       "      <td>-0.848173</td>\n",
       "      <td>1.542666</td>\n",
       "      <td>-2.166858</td>\n",
       "      <td>-0.867670</td>\n",
       "      <td>-0.980947</td>\n",
       "      <td>0.567793</td>\n",
       "      <td>1.323430</td>\n",
       "      <td>-2.076700</td>\n",
       "      <td>-0.291598</td>\n",
       "      <td>-1.564816</td>\n",
       "      <td>-8.718695</td>\n",
       "      <td>0.340144</td>\n",
       "      <td>-0.566402</td>\n",
       "      <td>0.844324</td>\n",
       "      <td>0.816421</td>\n",
       "      <td>-1.019114</td>\n",
       "      <td>-0.881431</td>\n",
       "      <td>-2.285710</td>\n",
       "      <td>-0.090958</td>\n",
       "      <td>-0.898440</td>\n",
       "      <td>-0.584417</td>\n",
       "      <td>-0.143660</td>\n",
       "      <td>-0.182084</td>\n",
       "      <td>0.798516</td>\n",
       "      <td>0.010756</td>\n",
       "      <td>-0.347155</td>\n",
       "      <td>...</td>\n",
       "      <td>0.829467</td>\n",
       "      <td>0.588236</td>\n",
       "      <td>0.427946</td>\n",
       "      <td>-0.563037</td>\n",
       "      <td>-0.103990</td>\n",
       "      <td>-0.817698</td>\n",
       "      <td>1.251046</td>\n",
       "      <td>-0.977157</td>\n",
       "      <td>2.732600</td>\n",
       "      <td>1.997984</td>\n",
       "      <td>-0.214285</td>\n",
       "      <td>-0.389428</td>\n",
       "      <td>-1.007633</td>\n",
       "      <td>0.336435</td>\n",
       "      <td>-0.851292</td>\n",
       "      <td>-0.024184</td>\n",
       "      <td>0.455908</td>\n",
       "      <td>0.458753</td>\n",
       "      <td>-0.267230</td>\n",
       "      <td>-2.032402</td>\n",
       "      <td>0.203082</td>\n",
       "      <td>0.654107</td>\n",
       "      <td>-3.512338</td>\n",
       "      <td>-0.840937</td>\n",
       "      <td>0.519407</td>\n",
       "      <td>-0.028053</td>\n",
       "      <td>-1.621083</td>\n",
       "      <td>0.142132</td>\n",
       "      <td>1.514664</td>\n",
       "      <td>0.828815</td>\n",
       "      <td>0.516422</td>\n",
       "      <td>0.130521</td>\n",
       "      <td>-0.459210</td>\n",
       "      <td>2.028205</td>\n",
       "      <td>-0.093968</td>\n",
       "      <td>-0.218274</td>\n",
       "      <td>-0.163136</td>\n",
       "      <td>-0.870289</td>\n",
       "      <td>0.064038</td>\n",
       "      <td>1</td>\n",
       "    </tr>\n",
       "    <tr>\n",
       "      <th>3</th>\n",
       "      <td>e350f17a357f12a1941f0837afb7eb8d</td>\n",
       "      <td>0.183774</td>\n",
       "      <td>0.919134</td>\n",
       "      <td>-0.946958</td>\n",
       "      <td>0.918492</td>\n",
       "      <td>0.862278</td>\n",
       "      <td>1.155287</td>\n",
       "      <td>0.911106</td>\n",
       "      <td>0.562598</td>\n",
       "      <td>-1.349685</td>\n",
       "      <td>-1.182729</td>\n",
       "      <td>0.003159</td>\n",
       "      <td>-0.626847</td>\n",
       "      <td>0.368980</td>\n",
       "      <td>1.560784</td>\n",
       "      <td>0.502851</td>\n",
       "      <td>-0.108050</td>\n",
       "      <td>0.633208</td>\n",
       "      <td>-0.411502</td>\n",
       "      <td>-3.201592</td>\n",
       "      <td>-0.710612</td>\n",
       "      <td>0.786816</td>\n",
       "      <td>0.500979</td>\n",
       "      <td>-1.040048</td>\n",
       "      <td>-1.369170</td>\n",
       "      <td>0.987666</td>\n",
       "      <td>-0.681838</td>\n",
       "      <td>-0.331372</td>\n",
       "      <td>2.254289</td>\n",
       "      <td>-0.009330</td>\n",
       "      <td>2.007067</td>\n",
       "      <td>1.203750</td>\n",
       "      <td>-2.003928</td>\n",
       "      <td>-0.566088</td>\n",
       "      <td>0.223452</td>\n",
       "      <td>0.434202</td>\n",
       "      <td>-1.203766</td>\n",
       "      <td>-0.103490</td>\n",
       "      <td>0.441111</td>\n",
       "      <td>1.818458</td>\n",
       "      <td>...</td>\n",
       "      <td>-2.231836</td>\n",
       "      <td>0.833236</td>\n",
       "      <td>-0.454226</td>\n",
       "      <td>-1.614694</td>\n",
       "      <td>0.159948</td>\n",
       "      <td>-0.150059</td>\n",
       "      <td>-1.570599</td>\n",
       "      <td>0.960839</td>\n",
       "      <td>0.102214</td>\n",
       "      <td>0.077236</td>\n",
       "      <td>0.852834</td>\n",
       "      <td>-1.265608</td>\n",
       "      <td>-3.219190</td>\n",
       "      <td>0.251194</td>\n",
       "      <td>0.215861</td>\n",
       "      <td>-0.009520</td>\n",
       "      <td>1.611203</td>\n",
       "      <td>1.679806</td>\n",
       "      <td>-0.008419</td>\n",
       "      <td>0.658384</td>\n",
       "      <td>-0.132437</td>\n",
       "      <td>-1.466823</td>\n",
       "      <td>-1.577080</td>\n",
       "      <td>-0.800346</td>\n",
       "      <td>1.960795</td>\n",
       "      <td>-4.042900</td>\n",
       "      <td>1.722143</td>\n",
       "      <td>-0.261888</td>\n",
       "      <td>-1.145005</td>\n",
       "      <td>-1.864582</td>\n",
       "      <td>-1.168967</td>\n",
       "      <td>1.385089</td>\n",
       "      <td>-0.353028</td>\n",
       "      <td>3.316150</td>\n",
       "      <td>-0.524087</td>\n",
       "      <td>-0.794327</td>\n",
       "      <td>3.936365</td>\n",
       "      <td>0.682989</td>\n",
       "      <td>-2.521211</td>\n",
       "      <td>0</td>\n",
       "    </tr>\n",
       "    <tr>\n",
       "      <th>4</th>\n",
       "      <td>a8f910ea6075b6376af079055965ff68</td>\n",
       "      <td>-0.203933</td>\n",
       "      <td>-0.177252</td>\n",
       "      <td>0.368074</td>\n",
       "      <td>-0.701320</td>\n",
       "      <td>-1.104391</td>\n",
       "      <td>0.735760</td>\n",
       "      <td>0.894273</td>\n",
       "      <td>-1.375826</td>\n",
       "      <td>-5.144946</td>\n",
       "      <td>-2.048711</td>\n",
       "      <td>0.629773</td>\n",
       "      <td>-4.252669</td>\n",
       "      <td>-0.087420</td>\n",
       "      <td>-0.794367</td>\n",
       "      <td>-1.063963</td>\n",
       "      <td>0.115997</td>\n",
       "      <td>0.895180</td>\n",
       "      <td>3.184848</td>\n",
       "      <td>2.057840</td>\n",
       "      <td>-0.950821</td>\n",
       "      <td>0.961059</td>\n",
       "      <td>-1.837828</td>\n",
       "      <td>-0.437156</td>\n",
       "      <td>-0.828433</td>\n",
       "      <td>0.373747</td>\n",
       "      <td>-0.099787</td>\n",
       "      <td>-0.976280</td>\n",
       "      <td>-0.165921</td>\n",
       "      <td>3.297221</td>\n",
       "      <td>3.914132</td>\n",
       "      <td>-4.971376</td>\n",
       "      <td>-0.286520</td>\n",
       "      <td>-0.160133</td>\n",
       "      <td>-3.301453</td>\n",
       "      <td>-1.021032</td>\n",
       "      <td>-0.562744</td>\n",
       "      <td>0.574065</td>\n",
       "      <td>-0.368194</td>\n",
       "      <td>-0.507458</td>\n",
       "      <td>...</td>\n",
       "      <td>0.178099</td>\n",
       "      <td>-0.410396</td>\n",
       "      <td>-1.184236</td>\n",
       "      <td>1.681727</td>\n",
       "      <td>0.589606</td>\n",
       "      <td>0.064222</td>\n",
       "      <td>0.258885</td>\n",
       "      <td>0.560241</td>\n",
       "      <td>-1.545597</td>\n",
       "      <td>0.822283</td>\n",
       "      <td>1.518209</td>\n",
       "      <td>0.460143</td>\n",
       "      <td>0.822488</td>\n",
       "      <td>1.362718</td>\n",
       "      <td>0.218560</td>\n",
       "      <td>-1.038514</td>\n",
       "      <td>1.000763</td>\n",
       "      <td>-0.975878</td>\n",
       "      <td>-0.551268</td>\n",
       "      <td>-0.133044</td>\n",
       "      <td>-0.393092</td>\n",
       "      <td>1.236473</td>\n",
       "      <td>1.657100</td>\n",
       "      <td>0.833020</td>\n",
       "      <td>0.665379</td>\n",
       "      <td>-0.900025</td>\n",
       "      <td>0.291908</td>\n",
       "      <td>0.482727</td>\n",
       "      <td>0.552399</td>\n",
       "      <td>0.970496</td>\n",
       "      <td>-0.279168</td>\n",
       "      <td>1.544356</td>\n",
       "      <td>2.959727</td>\n",
       "      <td>1.641201</td>\n",
       "      <td>-0.130818</td>\n",
       "      <td>-0.264292</td>\n",
       "      <td>-0.748668</td>\n",
       "      <td>0.964218</td>\n",
       "      <td>0.087079</td>\n",
       "      <td>0</td>\n",
       "    </tr>\n",
       "  </tbody>\n",
       "</table>\n",
       "</div>"
      ],
      "text/plain": [
       "                                 id   ...    target\n",
       "0  707b395ecdcbb4dc2eabea00e4d1b179   ...         0\n",
       "1  5880c03c6582a7b42248668e56b4bdec   ...         0\n",
       "2  4ccbcb3d13e5072ff1d9c61afe2c4f77   ...         1\n",
       "3  e350f17a357f12a1941f0837afb7eb8d   ...         0\n",
       "4  a8f910ea6075b6376af079055965ff68   ...         0\n",
       "\n",
       "[5 rows x 258 columns]"
      ]
     },
     "execution_count": 23,
     "metadata": {},
     "output_type": "execute_result"
    }
   ],
   "source": [
    "import numpy as np, pandas as pd, os\n",
    "from sklearn.discriminant_analysis import QuadraticDiscriminantAnalysis, LinearDiscriminantAnalysis\n",
    "from sklearn.feature_selection import VarianceThreshold\n",
    "from sklearn.model_selection import StratifiedKFold, KFold\n",
    "from sklearn.metrics import roc_auc_score\n",
    "from tqdm import tqdm\n",
    "from sklearn.covariance import EmpiricalCovariance\n",
    "from sklearn.preprocessing import StandardScaler\n",
    "from sklearn.decomposition import PCA\n",
    "import sympy \n",
    "train = pd.read_csv('../input/train.csv')\n",
    "test = pd.read_csv('../input/test.csv')\n",
    "\n",
    "train.head()"
   ]
  },
  {
   "cell_type": "code",
   "execution_count": 24,
   "metadata": {},
   "outputs": [],
   "source": [
    "from sklearn.covariance import GraphicalLasso\n",
    "\n",
    "def get_mean_cov(x,y):\n",
    "    model = GraphicalLasso()\n",
    "    ones = (y==1).astype(bool)\n",
    "    x2 = x[ones]\n",
    "    model.fit(x2)\n",
    "    p1 = model.precision_\n",
    "    m1 = model.location_\n",
    "    \n",
    "    onesb = (y==0).astype(bool)\n",
    "    x2b = x[onesb]\n",
    "    model.fit(x2b)\n",
    "    p2 = model.precision_\n",
    "    m2 = model.location_\n",
    "    \n",
    "    ms = np.stack([m1,m2])\n",
    "    ps = np.stack([p1,p2])\n",
    "    return ms,ps"
   ]
  },
  {
   "cell_type": "code",
   "execution_count": 25,
   "metadata": {},
   "outputs": [
    {
     "name": "stderr",
     "output_type": "stream",
     "text": [
      "100%|██████████| 512/512 [20:36<00:00,  2.57s/it]"
     ]
    },
    {
     "name": "stdout",
     "output_type": "stream",
     "text": [
      "QDA scores CV = 0.96878\n"
     ]
    },
    {
     "name": "stderr",
     "output_type": "stream",
     "text": [
      "\n"
     ]
    }
   ],
   "source": [
    "from sklearn.mixture import GaussianMixture\n",
    "\n",
    "# INITIALIZE VARIABLES\n",
    "cols = [c for c in train.columns if c not in ['id', 'target']]\n",
    "cols.remove('wheezy-copper-turtle-magic')\n",
    "oof = np.zeros(len(train))\n",
    "preds = np.zeros(len(test))\n",
    "\n",
    "# BUILD 512 SEPARATE MODELS\n",
    "for i in tqdm(range(512)):\n",
    "    # ONLY TRAIN WITH DATA WHERE WHEEZY EQUALS I\n",
    "    train2 = train[train['wheezy-copper-turtle-magic']==i]\n",
    "    test2 = test[test['wheezy-copper-turtle-magic']==i]\n",
    "    idx1 = train2.index; idx2 = test2.index\n",
    "    train2.reset_index(drop=True,inplace=True)\n",
    "    \n",
    "    # FEATURE SELECTION (USE APPROX 40 OF 255 FEATURES)\n",
    "    sel = VarianceThreshold(threshold=1.5).fit(train2[cols])\n",
    "    train3 = sel.transform(train2[cols])\n",
    "    test3 = sel.transform(test2[cols])\n",
    "    \n",
    "    # STRATIFIED K-FOLD\n",
    "    skf = StratifiedKFold(n_splits=11, random_state=42, shuffle=True)\n",
    "    for train_index, test_index in skf.split(train3, train2['target']):\n",
    "        \n",
    "        # MODEL AND PREDICT WITH QDA\n",
    "        ms, ps = get_mean_cov(train3[train_index,:],train2.loc[train_index]['target'].values)\n",
    "        \n",
    "        gm = GaussianMixture(n_components=2, init_params='random', covariance_type='full', tol=0.001,reg_covar=0.001, max_iter=100, n_init=1,means_init=ms, precisions_init=ps)\n",
    "        gm.fit(np.concatenate([train3[train_index,:],test3],axis = 0))\n",
    "        oof[idx1[test_index]] = gm.predict_proba(train3[test_index,:])[:,0]\n",
    "        preds[idx2] += gm.predict_proba(test3)[:,0] / skf.n_splits\n",
    "\n",
    "        \n",
    "# PRINT CV AUC\n",
    "auc = roc_auc_score(train['target'],oof)\n",
    "print('QDA scores CV =',round(auc,5))"
   ]
  },
  {
   "cell_type": "code",
   "execution_count": 26,
   "metadata": {},
   "outputs": [
    {
     "data": {
      "image/png": "[encoded data removed]",
      "text/plain": [
       "<Figure size 432x288 with 1 Axes>"
      ]
     },
     "metadata": {},
     "output_type": "display_data"
    }
   ],
   "source": [
    "suby = pd.read_csv('../input/sample_submission.csv')\n",
    "suby['target'] = preds\n",
    "#sub.to_csv('submission.csv',index=False)\n",
    "\n",
    "import matplotlib.pyplot as plt\n",
    "plt.hist(preds,bins=100)\n",
    "plt.title('Final Test.csv predictions')\n",
    "plt.show()"
   ]
  },
  {
   "cell_type": "code",
   "execution_count": 27,
   "metadata": {},
   "outputs": [],
   "source": [
    "subz = pd.read_csv('../input/sample_submission.csv')"
   ]
  },
  {
   "cell_type": "code",
   "execution_count": 28,
   "metadata": {},
   "outputs": [],
   "source": [
    "subz['target']=sub['target']*0.875+suby['target']*.125"
   ]
  },
  {
   "cell_type": "code",
   "execution_count": 29,
   "metadata": {},
   "outputs": [],
   "source": [
    "subg=pd.read_csv('../input/sample_submission.csv')"
   ]
  },
  {
   "cell_type": "code",
   "execution_count": 30,
   "metadata": {},
   "outputs": [],
   "source": [
    "subg['target']=subz['target']*0.75+subx['target']*.25"
   ]
  },
  {
   "cell_type": "code",
   "execution_count": 31,
   "metadata": {},
   "outputs": [],
   "source": [
    "sublp = pd.read_csv('../input/sample_submission.csv')"
   ]
  },
  {
   "cell_type": "code",
   "execution_count": 32,
   "metadata": {},
   "outputs": [],
   "source": [
    "sublp['target']=subg['target']*0.75+subtc['target']*.25"
   ]
  },
  {
   "cell_type": "code",
   "execution_count": 33,
   "metadata": {},
   "outputs": [],
   "source": [
    "sublp.to_csv('submission.csv',index=False)"
   ]
  }
 ],
 "metadata": {
  "kernelspec": {
   "display_name": "Python 3",
   "language": "python",
   "name": "python3"
  },
  "language_info": {
   "codemirror_mode": {
    "name": "ipython",
    "version": 3
   },
   "file_extension": ".py",
   "mimetype": "text/x-python",
   "name": "python",
   "nbconvert_exporter": "python",
   "pygments_lexer": "ipython3",
   "version": "3.6.4"
  }
 },
 "nbformat": 4,
 "nbformat_minor": 1
}
